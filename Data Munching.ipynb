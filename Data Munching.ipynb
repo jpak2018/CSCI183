{
 "cells": [
  {
   "cell_type": "markdown",
   "metadata": {},
   "source": [
    "# Data Munging with housing dataset\n",
    "Connecting EDA with Data Munging, 01/21/18"
   ]
  },
  {
   "cell_type": "markdown",
   "metadata": {
    "collapsed": true
   },
   "source": [
    "### Getting Data "
   ]
  },
  {
   "cell_type": "markdown",
   "metadata": {},
   "source": [
    "The data has been taken from the publisher's site of *Doing Data Science* book. It on Brooklyn housing (as mentioned in Chapter 2 of your textbook!)."
   ]
  },
  {
   "cell_type": "markdown",
   "metadata": {},
   "source": [
    "## Modules"
   ]
  },
  {
   "cell_type": "code",
   "execution_count": 1,
   "metadata": {},
   "outputs": [],
   "source": [
    "%matplotlib inline"
   ]
  },
  {
   "cell_type": "code",
   "execution_count": 2,
   "metadata": {},
   "outputs": [],
   "source": [
    "import numpy as np\n",
    "import pandas as pd\n",
    "import seaborn as sns\n",
    "import matplotlib.pyplot as plt\n",
    "\n",
    "# useful to explore data with null values\n",
    "import missingno as msno"
   ]
  },
  {
   "cell_type": "code",
   "execution_count": 3,
   "metadata": {},
   "outputs": [],
   "source": [
    "sns.set_context('talk')"
   ]
  },
  {
   "cell_type": "markdown",
   "metadata": {},
   "source": [
    "**Note**: about the missingno package, visit https://github.com/ResidentMario/missingno"
   ]
  },
  {
   "cell_type": "markdown",
   "metadata": {},
   "source": [
    "## Reading Data"
   ]
  },
  {
   "cell_type": "markdown",
   "metadata": {},
   "source": [
    "You continue to use pandas for XLS files reading. Suppose you have the `rollingsales_AREA.xls` files in the `data` directory.\n",
    "\n",
    "The relevant row number to extract header is the row no.5"
   ]
  },
  {
   "cell_type": "code",
   "execution_count": 4,
   "metadata": {},
   "outputs": [],
   "source": [
    "def read_data(fname):\n",
    "    \"\"\"Read data from an Excel file\n",
    "    \"\"\"\n",
    "    return pd.read_excel(fname, header=4)"
   ]
  },
  {
   "cell_type": "code",
   "execution_count": 5,
   "metadata": {},
   "outputs": [],
   "source": [
    "#reading the data\n",
    "brooklyn = read_data(\"rollingsales_brooklyn.xls\")\n"
   ]
  },
  {
   "cell_type": "code",
   "execution_count": 6,
   "metadata": {},
   "outputs": [
    {
     "data": {
      "text/html": [
       "<div>\n",
       "<table border=\"1\" class=\"dataframe\">\n",
       "  <thead>\n",
       "    <tr style=\"text-align: right;\">\n",
       "      <th></th>\n",
       "      <th>BOROUGH</th>\n",
       "      <th>NEIGHBORHOOD</th>\n",
       "      <th>BUILDING CLASS CATEGORY</th>\n",
       "      <th>TAX CLASS AT PRESENT</th>\n",
       "      <th>BLOCK</th>\n",
       "      <th>LOT</th>\n",
       "      <th>EASE-MENT</th>\n",
       "      <th>BUILDING CLASS AT PRESENT</th>\n",
       "      <th>ADDRESS</th>\n",
       "      <th>APART\n",
       "MENT\n",
       "NUMBER</th>\n",
       "      <th>...</th>\n",
       "      <th>RESIDENTIAL UNITS</th>\n",
       "      <th>COMMERCIAL UNITS</th>\n",
       "      <th>TOTAL UNITS</th>\n",
       "      <th>LAND SQUARE FEET</th>\n",
       "      <th>GROSS SQUARE FEET</th>\n",
       "      <th>YEAR BUILT</th>\n",
       "      <th>TAX CLASS AT TIME OF SALE</th>\n",
       "      <th>BUILDING CLASS AT TIME OF SALE</th>\n",
       "      <th>SALE\n",
       "PRICE</th>\n",
       "      <th>SALE DATE</th>\n",
       "    </tr>\n",
       "  </thead>\n",
       "  <tbody>\n",
       "    <tr>\n",
       "      <th>0</th>\n",
       "      <td>3</td>\n",
       "      <td></td>\n",
       "      <td>15  CONDOS - 2-10 UNIT RESIDENTIAL</td>\n",
       "      <td></td>\n",
       "      <td>814</td>\n",
       "      <td>1103</td>\n",
       "      <td></td>\n",
       "      <td></td>\n",
       "      <td>342 53RD    STREET</td>\n",
       "      <td></td>\n",
       "      <td>...</td>\n",
       "      <td>0</td>\n",
       "      <td>0</td>\n",
       "      <td>0</td>\n",
       "      <td>0</td>\n",
       "      <td>0</td>\n",
       "      <td>0</td>\n",
       "      <td>2</td>\n",
       "      <td>R1</td>\n",
       "      <td>403572</td>\n",
       "      <td>2013-07-09</td>\n",
       "    </tr>\n",
       "    <tr>\n",
       "      <th>1</th>\n",
       "      <td>3</td>\n",
       "      <td></td>\n",
       "      <td>15  CONDOS - 2-10 UNIT RESIDENTIAL</td>\n",
       "      <td></td>\n",
       "      <td>814</td>\n",
       "      <td>1105</td>\n",
       "      <td></td>\n",
       "      <td></td>\n",
       "      <td>342 53RD    STREET</td>\n",
       "      <td></td>\n",
       "      <td>...</td>\n",
       "      <td>0</td>\n",
       "      <td>0</td>\n",
       "      <td>0</td>\n",
       "      <td>0</td>\n",
       "      <td>0</td>\n",
       "      <td>0</td>\n",
       "      <td>2</td>\n",
       "      <td>R1</td>\n",
       "      <td>218010</td>\n",
       "      <td>2013-07-12</td>\n",
       "    </tr>\n",
       "    <tr>\n",
       "      <th>2</th>\n",
       "      <td>3</td>\n",
       "      <td></td>\n",
       "      <td>15  CONDOS - 2-10 UNIT RESIDENTIAL</td>\n",
       "      <td></td>\n",
       "      <td>1967</td>\n",
       "      <td>1401</td>\n",
       "      <td></td>\n",
       "      <td></td>\n",
       "      <td>290 GREENE AVE</td>\n",
       "      <td></td>\n",
       "      <td>...</td>\n",
       "      <td>0</td>\n",
       "      <td>0</td>\n",
       "      <td>0</td>\n",
       "      <td>0</td>\n",
       "      <td>0</td>\n",
       "      <td>0</td>\n",
       "      <td>2</td>\n",
       "      <td>R1</td>\n",
       "      <td>952311</td>\n",
       "      <td>2013-04-25</td>\n",
       "    </tr>\n",
       "    <tr>\n",
       "      <th>3</th>\n",
       "      <td>3</td>\n",
       "      <td></td>\n",
       "      <td>15  CONDOS - 2-10 UNIT RESIDENTIAL</td>\n",
       "      <td></td>\n",
       "      <td>1967</td>\n",
       "      <td>1402</td>\n",
       "      <td></td>\n",
       "      <td></td>\n",
       "      <td>290 GREENE AVE</td>\n",
       "      <td></td>\n",
       "      <td>...</td>\n",
       "      <td>0</td>\n",
       "      <td>0</td>\n",
       "      <td>0</td>\n",
       "      <td>0</td>\n",
       "      <td>0</td>\n",
       "      <td>0</td>\n",
       "      <td>2</td>\n",
       "      <td>R1</td>\n",
       "      <td>842692</td>\n",
       "      <td>2013-04-25</td>\n",
       "    </tr>\n",
       "    <tr>\n",
       "      <th>4</th>\n",
       "      <td>3</td>\n",
       "      <td></td>\n",
       "      <td>15  CONDOS - 2-10 UNIT RESIDENTIAL</td>\n",
       "      <td></td>\n",
       "      <td>1967</td>\n",
       "      <td>1403</td>\n",
       "      <td></td>\n",
       "      <td></td>\n",
       "      <td>290 GREENE AVE</td>\n",
       "      <td></td>\n",
       "      <td>...</td>\n",
       "      <td>0</td>\n",
       "      <td>0</td>\n",
       "      <td>0</td>\n",
       "      <td>0</td>\n",
       "      <td>0</td>\n",
       "      <td>0</td>\n",
       "      <td>2</td>\n",
       "      <td>R1</td>\n",
       "      <td>815288</td>\n",
       "      <td>2013-04-25</td>\n",
       "    </tr>\n",
       "  </tbody>\n",
       "</table>\n",
       "<p>5 rows × 21 columns</p>\n",
       "</div>"
      ],
      "text/plain": [
       "   BOROUGH               NEIGHBORHOOD  \\\n",
       "0        3                              \n",
       "1        3                              \n",
       "2        3                              \n",
       "3        3                              \n",
       "4        3                              \n",
       "\n",
       "                        BUILDING CLASS CATEGORY TAX CLASS AT PRESENT  BLOCK  \\\n",
       "0  15  CONDOS - 2-10 UNIT RESIDENTIAL                                   814   \n",
       "1  15  CONDOS - 2-10 UNIT RESIDENTIAL                                   814   \n",
       "2  15  CONDOS - 2-10 UNIT RESIDENTIAL                                  1967   \n",
       "3  15  CONDOS - 2-10 UNIT RESIDENTIAL                                  1967   \n",
       "4  15  CONDOS - 2-10 UNIT RESIDENTIAL                                  1967   \n",
       "\n",
       "    LOT EASE-MENT BUILDING CLASS AT PRESENT  \\\n",
       "0  1103                                       \n",
       "1  1105                                       \n",
       "2  1401                                       \n",
       "3  1402                                       \n",
       "4  1403                                       \n",
       "\n",
       "                                     ADDRESS APART\\nMENT\\nNUMBER    ...      \\\n",
       "0  342 53RD    STREET                                               ...       \n",
       "1  342 53RD    STREET                                               ...       \n",
       "2  290 GREENE AVE                                                   ...       \n",
       "3  290 GREENE AVE                                                   ...       \n",
       "4  290 GREENE AVE                                                   ...       \n",
       "\n",
       "   RESIDENTIAL UNITS  COMMERCIAL UNITS  TOTAL UNITS  LAND SQUARE FEET  \\\n",
       "0                  0                 0            0                 0   \n",
       "1                  0                 0            0                 0   \n",
       "2                  0                 0            0                 0   \n",
       "3                  0                 0            0                 0   \n",
       "4                  0                 0            0                 0   \n",
       "\n",
       "   GROSS SQUARE FEET  YEAR BUILT  TAX CLASS AT TIME OF SALE  \\\n",
       "0                  0           0                          2   \n",
       "1                  0           0                          2   \n",
       "2                  0           0                          2   \n",
       "3                  0           0                          2   \n",
       "4                  0           0                          2   \n",
       "\n",
       "   BUILDING CLASS AT TIME OF SALE SALE\\nPRICE  SALE DATE  \n",
       "0                              R1      403572 2013-07-09  \n",
       "1                              R1      218010 2013-07-12  \n",
       "2                              R1      952311 2013-04-25  \n",
       "3                              R1      842692 2013-04-25  \n",
       "4                              R1      815288 2013-04-25  \n",
       "\n",
       "[5 rows x 21 columns]"
      ]
     },
     "execution_count": 6,
     "metadata": {},
     "output_type": "execute_result"
    }
   ],
   "source": [
    "# looking up few rows of the data read\n",
    "brooklyn.head()"
   ]
  },
  {
   "cell_type": "code",
   "execution_count": 7,
   "metadata": {},
   "outputs": [
    {
     "name": "stdout",
     "output_type": "stream",
     "text": [
      "<class 'pandas.core.frame.DataFrame'>\n",
      "RangeIndex: 23373 entries, 0 to 23372\n",
      "Data columns (total 21 columns):\n",
      "BOROUGH                           23373 non-null int64\n",
      "NEIGHBORHOOD                      23373 non-null object\n",
      "BUILDING CLASS CATEGORY           23373 non-null object\n",
      "TAX CLASS AT PRESENT              23373 non-null object\n",
      "BLOCK                             23373 non-null int64\n",
      "LOT                               23373 non-null int64\n",
      "EASE-MENT                         23373 non-null object\n",
      "BUILDING CLASS AT PRESENT         23373 non-null object\n",
      "ADDRESS                           23373 non-null object\n",
      "APART\n",
      "MENT\n",
      "NUMBER                 23373 non-null object\n",
      "ZIP CODE                          23373 non-null int64\n",
      "RESIDENTIAL UNITS                 23373 non-null int64\n",
      "COMMERCIAL UNITS                  23373 non-null int64\n",
      "TOTAL UNITS                       23373 non-null int64\n",
      "LAND SQUARE FEET                  23373 non-null int64\n",
      "GROSS SQUARE FEET                 23373 non-null int64\n",
      "YEAR BUILT                        23373 non-null int64\n",
      "TAX CLASS AT TIME OF SALE         23373 non-null int64\n",
      "BUILDING CLASS AT TIME OF SALE    23373 non-null object\n",
      "SALE\n",
      "PRICE                        23373 non-null int64\n",
      "SALE DATE                         23373 non-null datetime64[ns]\n",
      "dtypes: datetime64[ns](1), int64(12), object(8)\n",
      "memory usage: 3.7+ MB\n"
     ]
    }
   ],
   "source": [
    "# checking information of data\n",
    "brooklyn.info()"
   ]
  },
  {
   "cell_type": "markdown",
   "metadata": {},
   "source": [
    "21 columns and several different data"
   ]
  },
  {
   "cell_type": "markdown",
   "metadata": {},
   "source": [
    "## Load and Clean up"
   ]
  },
  {
   "cell_type": "markdown",
   "metadata": {},
   "source": [
    "Quoting: *First challenge: load in and clean up the data. Next, conduct\n",
    "exploratory data analysis in order to find out where there are\n",
    "outliers or missing values, decide how you will treat them, make\n",
    "sure the dates are formatted correctly, make sure values you\n",
    "think are numerical are being treated as such, etc.*"
   ]
  },
  {
   "cell_type": "markdown",
   "metadata": {},
   "source": [
    "Let's look at the names of the colums first. "
   ]
  },
  {
   "cell_type": "code",
   "execution_count": 8,
   "metadata": {},
   "outputs": [
    {
     "data": {
      "text/plain": [
       "Index([u'BOROUGH', u'NEIGHBORHOOD', u'BUILDING CLASS CATEGORY',\n",
       "       u'TAX CLASS AT PRESENT', u'BLOCK', u'LOT', u'EASE-MENT',\n",
       "       u'BUILDING CLASS AT PRESENT', u'ADDRESS', u'APART\\nMENT\\nNUMBER',\n",
       "       u'ZIP CODE', u'RESIDENTIAL UNITS', u'COMMERCIAL UNITS', u'TOTAL UNITS',\n",
       "       u'LAND SQUARE FEET', u'GROSS SQUARE FEET', u'YEAR BUILT',\n",
       "       u'TAX CLASS AT TIME OF SALE', u'BUILDING CLASS AT TIME OF SALE',\n",
       "       u'SALE\\nPRICE', u'SALE DATE'],\n",
       "      dtype='object')"
      ]
     },
     "execution_count": 8,
     "metadata": {},
     "output_type": "execute_result"
    }
   ],
   "source": [
    "brooklyn.columns"
   ]
  },
  {
   "cell_type": "markdown",
   "metadata": {},
   "source": [
    "Rename some column names (there are some `\\n`)"
   ]
  },
  {
   "cell_type": "code",
   "execution_count": 9,
   "metadata": {},
   "outputs": [],
   "source": [
    "def clean_columns(df):\n",
    "    \"\"\"Clean some columns name\n",
    "    \"\"\"\n",
    "    df.columns = [x.replace('\\n', ' ').lower() for x in df.columns]\n",
    "    return df.rename_axis({'apart ment number': 'apartment number',\n",
    "                           'ease-ment': 'easement'}, axis=1)\n",
    "    \n",
    "def missing_string(df, colnames):\n",
    "    \"\"\"Strip content and fill empty string with NaN\n",
    "    \"\"\"\n",
    "    df = df.copy()\n",
    "    for col in colnames:\n",
    "        df[col] = df[col].str.strip().apply(lambda x: None if not x else x)\n",
    "    return df"
   ]
  },
  {
   "cell_type": "markdown",
   "metadata": {},
   "source": [
    "Column `apart ment number` sounds strange and this is an object (i.e. a string). Rename it!"
   ]
  },
  {
   "cell_type": "code",
   "execution_count": 10,
   "metadata": {},
   "outputs": [],
   "source": [
    "brooklyn = clean_columns(brooklyn)"
   ]
  },
  {
   "cell_type": "markdown",
   "metadata": {},
   "source": [
    "Looking at the basic info how the data set currently looks like."
   ]
  },
  {
   "cell_type": "code",
   "execution_count": 11,
   "metadata": {},
   "outputs": [
    {
     "name": "stdout",
     "output_type": "stream",
     "text": [
      "<class 'pandas.core.frame.DataFrame'>\n",
      "RangeIndex: 23373 entries, 0 to 23372\n",
      "Data columns (total 21 columns):\n",
      "borough                           23373 non-null int64\n",
      "neighborhood                      23373 non-null object\n",
      "building class category           23373 non-null object\n",
      "tax class at present              23373 non-null object\n",
      "block                             23373 non-null int64\n",
      "lot                               23373 non-null int64\n",
      "easement                          23373 non-null object\n",
      "building class at present         23373 non-null object\n",
      "address                           23373 non-null object\n",
      "apartment number                  23373 non-null object\n",
      "zip code                          23373 non-null int64\n",
      "residential units                 23373 non-null int64\n",
      "commercial units                  23373 non-null int64\n",
      "total units                       23373 non-null int64\n",
      "land square feet                  23373 non-null int64\n",
      "gross square feet                 23373 non-null int64\n",
      "year built                        23373 non-null int64\n",
      "tax class at time of sale         23373 non-null int64\n",
      "building class at time of sale    23373 non-null object\n",
      "sale price                        23373 non-null int64\n",
      "sale date                         23373 non-null datetime64[ns]\n",
      "dtypes: datetime64[ns](1), int64(12), object(8)\n",
      "memory usage: 3.7+ MB\n"
     ]
    }
   ],
   "source": [
    "brooklyn.info()"
   ]
  },
  {
   "cell_type": "code",
   "execution_count": 13,
   "metadata": {},
   "outputs": [],
   "source": [
    "# descrbe the data\n"
   ]
  },
  {
   "cell_type": "markdown",
   "metadata": {},
   "source": [
    "As you can see `borough` is always set to `3.0` because `std = 0`. Let's drop that column."
   ]
  },
  {
   "cell_type": "code",
   "execution_count": 14,
   "metadata": {},
   "outputs": [],
   "source": [
    "# drop the column"
   ]
  },
  {
   "cell_type": "markdown",
   "metadata": {},
   "source": [
    "Calling `missing_string` function over the column `apartment number` so that the empty cells get filled with `none`"
   ]
  },
  {
   "cell_type": "code",
   "execution_count": 15,
   "metadata": {},
   "outputs": [],
   "source": [
    "brooklyn = missing_string(brooklyn, ['apartment number'])"
   ]
  },
  {
   "cell_type": "markdown",
   "metadata": {},
   "source": [
    "OK, sometimes, you can have two digits or one digits and letters. We can normalize that, i.e. discard some trailing whitespaces. And replace every empty string by None."
   ]
  },
  {
   "cell_type": "markdown",
   "metadata": {},
   "source": [
    "Let's see if you have other string field with the same issues"
   ]
  },
  {
   "cell_type": "code",
   "execution_count": 16,
   "metadata": {},
   "outputs": [],
   "source": [
    "# look at 10 random samples of the data for column 'apartment number'\n"
   ]
  },
  {
   "cell_type": "markdown",
   "metadata": {},
   "source": [
    "### Type of Columns\n",
    "\n",
    "Are integer and string columns qualitative or sequential data?\n",
    "\n",
    "* Districts or zipcodes could be qualitative data\n",
    "* Years or prices could be sequential data (i.e. you can sort them)"
   ]
  },
  {
   "cell_type": "code",
   "execution_count": 17,
   "metadata": {},
   "outputs": [],
   "source": [
    "def number_unique_values(data):\n",
    "    \"\"\"Count the number of unique values for each column\n",
    "    \n",
    "    Return a DataFrame with the name of the columns, the type and the number of unique values\n",
    "    \"\"\"\n",
    "    res = pd.DataFrame([(name, data[name].dtype.name, data[name].nunique()) for name in data],\n",
    "                      columns=['name', 'type', 'number'])\n",
    "    return res.sort_values(by=['type', 'number'])"
   ]
  },
  {
   "cell_type": "code",
   "execution_count": 18,
   "metadata": {},
   "outputs": [],
   "source": [
    "nuniq = number_unique_values(brooklyn)"
   ]
  },
  {
   "cell_type": "code",
   "execution_count": 19,
   "metadata": {},
   "outputs": [
    {
     "data": {
      "text/html": [
       "<div>\n",
       "<table border=\"1\" class=\"dataframe\">\n",
       "  <thead>\n",
       "    <tr style=\"text-align: right;\">\n",
       "      <th></th>\n",
       "      <th>name</th>\n",
       "      <th>type</th>\n",
       "      <th>number</th>\n",
       "    </tr>\n",
       "  </thead>\n",
       "  <tbody>\n",
       "    <tr>\n",
       "      <th>20</th>\n",
       "      <td>sale date</td>\n",
       "      <td>datetime64[ns]</td>\n",
       "      <td>373</td>\n",
       "    </tr>\n",
       "    <tr>\n",
       "      <th>0</th>\n",
       "      <td>borough</td>\n",
       "      <td>int64</td>\n",
       "      <td>1</td>\n",
       "    </tr>\n",
       "    <tr>\n",
       "      <th>17</th>\n",
       "      <td>tax class at time of sale</td>\n",
       "      <td>int64</td>\n",
       "      <td>4</td>\n",
       "    </tr>\n",
       "    <tr>\n",
       "      <th>12</th>\n",
       "      <td>commercial units</td>\n",
       "      <td>int64</td>\n",
       "      <td>27</td>\n",
       "    </tr>\n",
       "    <tr>\n",
       "      <th>10</th>\n",
       "      <td>zip code</td>\n",
       "      <td>int64</td>\n",
       "      <td>41</td>\n",
       "    </tr>\n",
       "    <tr>\n",
       "      <th>11</th>\n",
       "      <td>residential units</td>\n",
       "      <td>int64</td>\n",
       "      <td>91</td>\n",
       "    </tr>\n",
       "    <tr>\n",
       "      <th>13</th>\n",
       "      <td>total units</td>\n",
       "      <td>int64</td>\n",
       "      <td>96</td>\n",
       "    </tr>\n",
       "    <tr>\n",
       "      <th>16</th>\n",
       "      <td>year built</td>\n",
       "      <td>int64</td>\n",
       "      <td>145</td>\n",
       "    </tr>\n",
       "    <tr>\n",
       "      <th>5</th>\n",
       "      <td>lot</td>\n",
       "      <td>int64</td>\n",
       "      <td>1134</td>\n",
       "    </tr>\n",
       "    <tr>\n",
       "      <th>14</th>\n",
       "      <td>land square feet</td>\n",
       "      <td>int64</td>\n",
       "      <td>2552</td>\n",
       "    </tr>\n",
       "    <tr>\n",
       "      <th>15</th>\n",
       "      <td>gross square feet</td>\n",
       "      <td>int64</td>\n",
       "      <td>3311</td>\n",
       "    </tr>\n",
       "    <tr>\n",
       "      <th>19</th>\n",
       "      <td>sale price</td>\n",
       "      <td>int64</td>\n",
       "      <td>3318</td>\n",
       "    </tr>\n",
       "    <tr>\n",
       "      <th>4</th>\n",
       "      <td>block</td>\n",
       "      <td>int64</td>\n",
       "      <td>5455</td>\n",
       "    </tr>\n",
       "    <tr>\n",
       "      <th>6</th>\n",
       "      <td>easement</td>\n",
       "      <td>object</td>\n",
       "      <td>1</td>\n",
       "    </tr>\n",
       "    <tr>\n",
       "      <th>3</th>\n",
       "      <td>tax class at present</td>\n",
       "      <td>object</td>\n",
       "      <td>11</td>\n",
       "    </tr>\n",
       "    <tr>\n",
       "      <th>2</th>\n",
       "      <td>building class category</td>\n",
       "      <td>object</td>\n",
       "      <td>38</td>\n",
       "    </tr>\n",
       "    <tr>\n",
       "      <th>1</th>\n",
       "      <td>neighborhood</td>\n",
       "      <td>object</td>\n",
       "      <td>63</td>\n",
       "    </tr>\n",
       "    <tr>\n",
       "      <th>18</th>\n",
       "      <td>building class at time of sale</td>\n",
       "      <td>object</td>\n",
       "      <td>131</td>\n",
       "    </tr>\n",
       "    <tr>\n",
       "      <th>7</th>\n",
       "      <td>building class at present</td>\n",
       "      <td>object</td>\n",
       "      <td>132</td>\n",
       "    </tr>\n",
       "    <tr>\n",
       "      <th>9</th>\n",
       "      <td>apartment number</td>\n",
       "      <td>object</td>\n",
       "      <td>1286</td>\n",
       "    </tr>\n",
       "    <tr>\n",
       "      <th>8</th>\n",
       "      <td>address</td>\n",
       "      <td>object</td>\n",
       "      <td>18465</td>\n",
       "    </tr>\n",
       "  </tbody>\n",
       "</table>\n",
       "</div>"
      ],
      "text/plain": [
       "                              name            type  number\n",
       "20                       sale date  datetime64[ns]     373\n",
       "0                          borough           int64       1\n",
       "17       tax class at time of sale           int64       4\n",
       "12                commercial units           int64      27\n",
       "10                        zip code           int64      41\n",
       "11               residential units           int64      91\n",
       "13                     total units           int64      96\n",
       "16                      year built           int64     145\n",
       "5                              lot           int64    1134\n",
       "14                land square feet           int64    2552\n",
       "15               gross square feet           int64    3311\n",
       "19                      sale price           int64    3318\n",
       "4                            block           int64    5455\n",
       "6                         easement          object       1\n",
       "3             tax class at present          object      11\n",
       "2          building class category          object      38\n",
       "1                     neighborhood          object      63\n",
       "18  building class at time of sale          object     131\n",
       "7        building class at present          object     132\n",
       "9                 apartment number          object    1286\n",
       "8                          address          object   18465"
      ]
     },
     "execution_count": 19,
     "metadata": {},
     "output_type": "execute_result"
    }
   ],
   "source": [
    "nuniq"
   ]
  },
  {
   "cell_type": "markdown",
   "metadata": {},
   "source": [
    "**Note** that *most of the time*, `object` type means `string`."
   ]
  },
  {
   "cell_type": "markdown",
   "metadata": {},
   "source": [
    "When you have a small number of unique values in comparison with the number of rows, it could be qualitative data."
   ]
  },
  {
   "cell_type": "markdown",
   "metadata": {},
   "source": [
    "For a predictive model, the columns with a unique value are irrelevant.\n",
    "I'm specifying two list of columns:\n",
    "- columns with string data\n",
    "- columns with integer data"
   ]
  },
  {
   "cell_type": "code",
   "execution_count": 20,
   "metadata": {},
   "outputs": [
    {
     "data": {
      "text/plain": [
       "[u'borough',\n",
       " u'tax class at time of sale',\n",
       " u'commercial units',\n",
       " u'zip code',\n",
       " u'residential units',\n",
       " u'total units',\n",
       " u'year built',\n",
       " u'lot',\n",
       " u'land square feet',\n",
       " u'gross square feet',\n",
       " u'sale price',\n",
       " u'block']"
      ]
     },
     "execution_count": 20,
     "metadata": {},
     "output_type": "execute_result"
    }
   ],
   "source": [
    "intcols = nuniq.query(\"type == 'int64'\")['name'].values.tolist()\n",
    "intcols"
   ]
  },
  {
   "cell_type": "code",
   "execution_count": 21,
   "metadata": {},
   "outputs": [
    {
     "data": {
      "text/plain": [
       "['easement',\n",
       " u'tax class at present',\n",
       " u'building class category',\n",
       " u'neighborhood',\n",
       " u'building class at time of sale',\n",
       " u'building class at present',\n",
       " 'apartment number',\n",
       " u'address']"
      ]
     },
     "execution_count": 21,
     "metadata": {},
     "output_type": "execute_result"
    }
   ],
   "source": [
    "strcols = nuniq.query(\"type == 'object'\")['name'].values.tolist()\n",
    "strcols"
   ]
  },
  {
   "cell_type": "markdown",
   "metadata": {},
   "source": [
    "### Crazy Values"
   ]
  },
  {
   "cell_type": "markdown",
   "metadata": {},
   "source": [
    "Data are always messed up. Check if some integer/float columns contain some crazy values, e.g. -999 for a positive float or 0 for years..."
   ]
  },
  {
   "cell_type": "code",
   "execution_count": 22,
   "metadata": {},
   "outputs": [],
   "source": [
    "def range_columns(data):\n",
    "    \"\"\"Min/max values for each integer columns\"\"\"\n",
    "    intcols = data.dtypes[data.dtypes == 'int64'].index.tolist()\n",
    "    res = data[intcols].describe().T \n",
    "    return res[[\"min\", \"50%\", \"max\"]]"
   ]
  },
  {
   "cell_type": "code",
   "execution_count": 23,
   "metadata": {},
   "outputs": [
    {
     "data": {
      "text/html": [
       "<div>\n",
       "<table border=\"1\" class=\"dataframe\">\n",
       "  <thead>\n",
       "    <tr style=\"text-align: right;\">\n",
       "      <th></th>\n",
       "      <th>min</th>\n",
       "      <th>50%</th>\n",
       "      <th>max</th>\n",
       "    </tr>\n",
       "  </thead>\n",
       "  <tbody>\n",
       "    <tr>\n",
       "      <th>borough</th>\n",
       "      <td>3.0</td>\n",
       "      <td>3.0</td>\n",
       "      <td>3.0</td>\n",
       "    </tr>\n",
       "    <tr>\n",
       "      <th>block</th>\n",
       "      <td>20.0</td>\n",
       "      <td>3839.0</td>\n",
       "      <td>8955.0</td>\n",
       "    </tr>\n",
       "    <tr>\n",
       "      <th>lot</th>\n",
       "      <td>1.0</td>\n",
       "      <td>48.0</td>\n",
       "      <td>9039.0</td>\n",
       "    </tr>\n",
       "    <tr>\n",
       "      <th>zip code</th>\n",
       "      <td>0.0</td>\n",
       "      <td>11218.0</td>\n",
       "      <td>11416.0</td>\n",
       "    </tr>\n",
       "    <tr>\n",
       "      <th>residential units</th>\n",
       "      <td>0.0</td>\n",
       "      <td>1.0</td>\n",
       "      <td>509.0</td>\n",
       "    </tr>\n",
       "    <tr>\n",
       "      <th>commercial units</th>\n",
       "      <td>0.0</td>\n",
       "      <td>0.0</td>\n",
       "      <td>222.0</td>\n",
       "    </tr>\n",
       "    <tr>\n",
       "      <th>total units</th>\n",
       "      <td>0.0</td>\n",
       "      <td>1.0</td>\n",
       "      <td>509.0</td>\n",
       "    </tr>\n",
       "    <tr>\n",
       "      <th>land square feet</th>\n",
       "      <td>0.0</td>\n",
       "      <td>1850.0</td>\n",
       "      <td>7446955.0</td>\n",
       "    </tr>\n",
       "    <tr>\n",
       "      <th>gross square feet</th>\n",
       "      <td>0.0</td>\n",
       "      <td>1760.0</td>\n",
       "      <td>2548000.0</td>\n",
       "    </tr>\n",
       "    <tr>\n",
       "      <th>year built</th>\n",
       "      <td>0.0</td>\n",
       "      <td>1925.0</td>\n",
       "      <td>2013.0</td>\n",
       "    </tr>\n",
       "    <tr>\n",
       "      <th>tax class at time of sale</th>\n",
       "      <td>1.0</td>\n",
       "      <td>1.0</td>\n",
       "      <td>4.0</td>\n",
       "    </tr>\n",
       "    <tr>\n",
       "      <th>sale price</th>\n",
       "      <td>0.0</td>\n",
       "      <td>250000.0</td>\n",
       "      <td>276947000.0</td>\n",
       "    </tr>\n",
       "  </tbody>\n",
       "</table>\n",
       "</div>"
      ],
      "text/plain": [
       "                            min       50%          max\n",
       "borough                     3.0       3.0          3.0\n",
       "block                      20.0    3839.0       8955.0\n",
       "lot                         1.0      48.0       9039.0\n",
       "zip code                    0.0   11218.0      11416.0\n",
       "residential units           0.0       1.0        509.0\n",
       "commercial units            0.0       0.0        222.0\n",
       "total units                 0.0       1.0        509.0\n",
       "land square feet            0.0    1850.0    7446955.0\n",
       "gross square feet           0.0    1760.0    2548000.0\n",
       "year built                  0.0    1925.0       2013.0\n",
       "tax class at time of sale   1.0       1.0          4.0\n",
       "sale price                  0.0  250000.0  276947000.0"
      ]
     },
     "execution_count": 23,
     "metadata": {},
     "output_type": "execute_result"
    }
   ],
   "source": [
    "range_columns(brooklyn)"
   ]
  },
  {
   "cell_type": "code",
   "execution_count": 24,
   "metadata": {},
   "outputs": [
    {
     "data": {
      "text/plain": [
       "count    2.337300e+04\n",
       "mean     5.283847e+05\n",
       "std      2.821726e+06\n",
       "min      0.000000e+00\n",
       "25%      0.000000e+00\n",
       "50%      2.500000e+05\n",
       "75%      6.141970e+05\n",
       "max      2.769470e+08\n",
       "Name: sale price, dtype: float64"
      ]
     },
     "execution_count": 24,
     "metadata": {},
     "output_type": "execute_result"
    }
   ],
   "source": [
    "brooklyn['sale price'].describe()"
   ]
  },
  {
   "cell_type": "code",
   "execution_count": 25,
   "metadata": {},
   "outputs": [],
   "source": [
    "# draw a histogram of the sale price"
   ]
  },
  {
   "cell_type": "code",
   "execution_count": 26,
   "metadata": {},
   "outputs": [],
   "source": [
    "# draw another histogram of the gross sq ft"
   ]
  },
  {
   "cell_type": "code",
   "execution_count": 27,
   "metadata": {},
   "outputs": [],
   "source": [
    "# magnify the histogram portion which you think is important "
   ]
  },
  {
   "cell_type": "code",
   "execution_count": 28,
   "metadata": {},
   "outputs": [
    {
     "data": {
      "text/plain": [
       "<matplotlib.collections.PathCollection at 0x10e5a3a10>"
      ]
     },
     "execution_count": 28,
     "metadata": {},
     "output_type": "execute_result"
    },
    {
     "data": {
      "image/png": "[encoded data removed]",
      "text/plain": [
       "<matplotlib.figure.Figure at 0x10e32d790>"
      ]
     },
     "metadata": {},
     "output_type": "display_data"
    }
   ],
   "source": [
    "br_gt_0 = brooklyn[['gross square feet', 'sale price']][(brooklyn['sale price'] > 0) & (brooklyn['gross square feet'] > 0)]\n",
    "plt.scatter(br_gt_0['gross square feet'], br_gt_0['sale price'])"
   ]
  },
  {
   "cell_type": "code",
   "execution_count": 29,
   "metadata": {},
   "outputs": [],
   "source": [
    "# try to identify the region from the above figure, and magnify it \n",
    "# please remember that it is a scatter plot"
   ]
  },
  {
   "cell_type": "markdown",
   "metadata": {},
   "source": [
    "zip code, sale price, square feet or year equal to `0` is quite strange! *Next step*: **identify** null values. For some integer values, you can suppose that 0 is a null value. For string values, you can suppose that the empty string is null. You have a dedicated function for the second issue."
   ]
  },
  {
   "cell_type": "code",
   "execution_count": 30,
   "metadata": {},
   "outputs": [],
   "source": [
    "brooklyn = missing_string(brooklyn, strcols)"
   ]
  },
  {
   "cell_type": "markdown",
   "metadata": {},
   "source": [
    "Let's select the integer columns where you can say: \"zero value is a null value\"."
   ]
  },
  {
   "cell_type": "code",
   "execution_count": 31,
   "metadata": {},
   "outputs": [
    {
     "data": {
      "text/plain": [
       "[u'borough',\n",
       " u'tax class at time of sale',\n",
       " u'commercial units',\n",
       " u'zip code',\n",
       " u'residential units',\n",
       " u'total units',\n",
       " u'year built',\n",
       " u'lot',\n",
       " u'land square feet',\n",
       " u'gross square feet',\n",
       " u'sale price',\n",
       " u'block']"
      ]
     },
     "execution_count": 31,
     "metadata": {},
     "output_type": "execute_result"
    }
   ],
   "source": [
    "intcols"
   ]
  },
  {
   "cell_type": "code",
   "execution_count": 32,
   "metadata": {},
   "outputs": [],
   "source": [
    "intcols_to_nullify = ['zip code', 'year built', 'land square feet',\n",
    "                      'gross square feet', 'sale price']"
   ]
  },
  {
   "cell_type": "code",
   "execution_count": 33,
   "metadata": {},
   "outputs": [
    {
     "data": {
      "text/html": [
       "<div>\n",
       "<table border=\"1\" class=\"dataframe\">\n",
       "  <thead>\n",
       "    <tr style=\"text-align: right;\">\n",
       "      <th></th>\n",
       "      <th>zip code</th>\n",
       "      <th>year built</th>\n",
       "      <th>land square feet</th>\n",
       "      <th>gross square feet</th>\n",
       "      <th>sale price</th>\n",
       "    </tr>\n",
       "  </thead>\n",
       "  <tbody>\n",
       "    <tr>\n",
       "      <th>0</th>\n",
       "      <td>11220</td>\n",
       "      <td>0</td>\n",
       "      <td>0</td>\n",
       "      <td>0</td>\n",
       "      <td>403572</td>\n",
       "    </tr>\n",
       "    <tr>\n",
       "      <th>1</th>\n",
       "      <td>11220</td>\n",
       "      <td>0</td>\n",
       "      <td>0</td>\n",
       "      <td>0</td>\n",
       "      <td>218010</td>\n",
       "    </tr>\n",
       "    <tr>\n",
       "      <th>2</th>\n",
       "      <td>11238</td>\n",
       "      <td>0</td>\n",
       "      <td>0</td>\n",
       "      <td>0</td>\n",
       "      <td>952311</td>\n",
       "    </tr>\n",
       "    <tr>\n",
       "      <th>3</th>\n",
       "      <td>11238</td>\n",
       "      <td>0</td>\n",
       "      <td>0</td>\n",
       "      <td>0</td>\n",
       "      <td>842692</td>\n",
       "    </tr>\n",
       "    <tr>\n",
       "      <th>4</th>\n",
       "      <td>11238</td>\n",
       "      <td>0</td>\n",
       "      <td>0</td>\n",
       "      <td>0</td>\n",
       "      <td>815288</td>\n",
       "    </tr>\n",
       "  </tbody>\n",
       "</table>\n",
       "</div>"
      ],
      "text/plain": [
       "   zip code  year built  land square feet  gross square feet  sale price\n",
       "0     11220           0                 0                  0      403572\n",
       "1     11220           0                 0                  0      218010\n",
       "2     11238           0                 0                  0      952311\n",
       "3     11238           0                 0                  0      842692\n",
       "4     11238           0                 0                  0      815288"
      ]
     },
     "execution_count": 33,
     "metadata": {},
     "output_type": "execute_result"
    }
   ],
   "source": [
    "brooklyn[intcols_to_nullify].head()"
   ]
  },
  {
   "cell_type": "code",
   "execution_count": 34,
   "metadata": {},
   "outputs": [
    {
     "data": {
      "text/html": [
       "<div>\n",
       "<table border=\"1\" class=\"dataframe\">\n",
       "  <thead>\n",
       "    <tr style=\"text-align: right;\">\n",
       "      <th></th>\n",
       "      <th>zip code</th>\n",
       "      <th>year built</th>\n",
       "      <th>land square feet</th>\n",
       "      <th>gross square feet</th>\n",
       "      <th>sale price</th>\n",
       "    </tr>\n",
       "  </thead>\n",
       "  <tbody>\n",
       "    <tr>\n",
       "      <th>21761</th>\n",
       "      <td>11211.0</td>\n",
       "      <td>1920.0</td>\n",
       "      <td>2242.0</td>\n",
       "      <td>2880.0</td>\n",
       "      <td>740000.0</td>\n",
       "    </tr>\n",
       "    <tr>\n",
       "      <th>21991</th>\n",
       "      <td>11211.0</td>\n",
       "      <td>NaN</td>\n",
       "      <td>NaN</td>\n",
       "      <td>NaN</td>\n",
       "      <td>590000.0</td>\n",
       "    </tr>\n",
       "    <tr>\n",
       "      <th>17310</th>\n",
       "      <td>11207.0</td>\n",
       "      <td>1925.0</td>\n",
       "      <td>1695.0</td>\n",
       "      <td>900.0</td>\n",
       "      <td>250000.0</td>\n",
       "    </tr>\n",
       "    <tr>\n",
       "      <th>2692</th>\n",
       "      <td>11221.0</td>\n",
       "      <td>2010.0</td>\n",
       "      <td>NaN</td>\n",
       "      <td>NaN</td>\n",
       "      <td>192500.0</td>\n",
       "    </tr>\n",
       "    <tr>\n",
       "      <th>16454</th>\n",
       "      <td>11210.0</td>\n",
       "      <td>1920.0</td>\n",
       "      <td>5000.0</td>\n",
       "      <td>3112.0</td>\n",
       "      <td>2025000.0</td>\n",
       "    </tr>\n",
       "    <tr>\n",
       "      <th>12621</th>\n",
       "      <td>11203.0</td>\n",
       "      <td>1925.0</td>\n",
       "      <td>2050.0</td>\n",
       "      <td>1488.0</td>\n",
       "      <td>395000.0</td>\n",
       "    </tr>\n",
       "    <tr>\n",
       "      <th>12509</th>\n",
       "      <td>11226.0</td>\n",
       "      <td>1931.0</td>\n",
       "      <td>11816.0</td>\n",
       "      <td>18492.0</td>\n",
       "      <td>4200000.0</td>\n",
       "    </tr>\n",
       "    <tr>\n",
       "      <th>15211</th>\n",
       "      <td>11222.0</td>\n",
       "      <td>2006.0</td>\n",
       "      <td>NaN</td>\n",
       "      <td>NaN</td>\n",
       "      <td>NaN</td>\n",
       "    </tr>\n",
       "    <tr>\n",
       "      <th>3697</th>\n",
       "      <td>11201.0</td>\n",
       "      <td>NaN</td>\n",
       "      <td>NaN</td>\n",
       "      <td>NaN</td>\n",
       "      <td>NaN</td>\n",
       "    </tr>\n",
       "    <tr>\n",
       "      <th>10924</th>\n",
       "      <td>11208.0</td>\n",
       "      <td>1899.0</td>\n",
       "      <td>2002.0</td>\n",
       "      <td>1493.0</td>\n",
       "      <td>260000.0</td>\n",
       "    </tr>\n",
       "  </tbody>\n",
       "</table>\n",
       "</div>"
      ],
      "text/plain": [
       "       zip code  year built  land square feet  gross square feet  sale price\n",
       "21761   11211.0      1920.0            2242.0             2880.0    740000.0\n",
       "21991   11211.0         NaN               NaN                NaN    590000.0\n",
       "17310   11207.0      1925.0            1695.0              900.0    250000.0\n",
       "2692    11221.0      2010.0               NaN                NaN    192500.0\n",
       "16454   11210.0      1920.0            5000.0             3112.0   2025000.0\n",
       "12621   11203.0      1925.0            2050.0             1488.0    395000.0\n",
       "12509   11226.0      1931.0           11816.0            18492.0   4200000.0\n",
       "15211   11222.0      2006.0               NaN                NaN         NaN\n",
       "3697    11201.0         NaN               NaN                NaN         NaN\n",
       "10924   11208.0      1899.0            2002.0             1493.0    260000.0"
      ]
     },
     "execution_count": 34,
     "metadata": {},
     "output_type": "execute_result"
    }
   ],
   "source": [
    "brooklyn[intcols_to_nullify] = brooklyn[intcols_to_nullify].replace(0, np.nan)\n",
    "brooklyn[intcols_to_nullify].sample(10)"
   ]
  },
  {
   "cell_type": "markdown",
   "metadata": {},
   "source": [
    "Now, you have a number of non-null object values which is quite different of the total number of rows."
   ]
  },
  {
   "cell_type": "markdown",
   "metadata": {},
   "source": [
    "Now, you have a better representation of your data. As you can see, you have multiple rows where there are some null values."
   ]
  },
  {
   "cell_type": "code",
   "execution_count": 35,
   "metadata": {},
   "outputs": [
    {
     "name": "stdout",
     "output_type": "stream",
     "text": [
      "<class 'pandas.core.frame.DataFrame'>\n",
      "RangeIndex: 23373 entries, 0 to 23372\n",
      "Data columns (total 21 columns):\n",
      "borough                           23373 non-null int64\n",
      "neighborhood                      23365 non-null object\n",
      "building class category           23043 non-null object\n",
      "tax class at present              3779 non-null object\n",
      "block                             23373 non-null int64\n",
      "lot                               23373 non-null int64\n",
      "easement                          0 non-null object\n",
      "building class at present         23272 non-null object\n",
      "address                           23373 non-null object\n",
      "apartment number                  4112 non-null object\n",
      "zip code                          23356 non-null float64\n",
      "residential units                 23373 non-null int64\n",
      "commercial units                  23373 non-null int64\n",
      "total units                       23373 non-null int64\n",
      "land square feet                  15346 non-null float64\n",
      "gross square feet                 14439 non-null float64\n",
      "year built                        20274 non-null float64\n",
      "tax class at time of sale         23373 non-null int64\n",
      "building class at time of sale    23373 non-null object\n",
      "sale price                        14582 non-null float64\n",
      "sale date                         23373 non-null datetime64[ns]\n",
      "dtypes: datetime64[ns](1), float64(5), int64(7), object(8)\n",
      "memory usage: 3.7+ MB\n"
     ]
    }
   ],
   "source": [
    "brooklyn.info()"
   ]
  },
  {
   "cell_type": "markdown",
   "metadata": {},
   "source": [
    "You can use the `missingno` package which works well with pandas and seaborn to visualize features (i.e. columns) with missing values."
   ]
  },
  {
   "cell_type": "code",
   "execution_count": 111,
   "metadata": {},
   "outputs": [
    {
     "data": {
      "image/png": "[encoded data removed]",
      "text/plain": [
       "<matplotlib.figure.Figure at 0x110754c50>"
      ]
     },
     "metadata": {},
     "output_type": "display_data"
    }
   ],
   "source": [
    "msno.matrix(brooklyn)"
   ]
  },
  {
   "cell_type": "markdown",
   "metadata": {},
   "source": [
    "You can also plot the correlation of \"number of missing values\" between each feature."
   ]
  },
  {
   "cell_type": "code",
   "execution_count": 113,
   "metadata": {},
   "outputs": [
    {
     "data": {
      "image/png": "[encoded data removed]",
      "text/plain": [
       "<matplotlib.figure.Figure at 0x10d2c4110>"
      ]
     },
     "metadata": {},
     "output_type": "display_data"
    }
   ],
   "source": [
    "msno.heatmap(brooklyn)"
   ]
  },
  {
   "cell_type": "markdown",
   "metadata": {},
   "source": [
    "As you can see, there is a huge correlation between the 'land square feet' and 'gross square feet' feature. It's not very suprising since when you don't have the value of the first feature, you don't have the second one.\n",
    "\n",
    "For a predictive model which tries to estimate the sale price for instance, you need to remove some lines (where you have these null values) and some features (unique values, etc.). In this study, you can drop `easement` and `borough` columns."
   ]
  },
  {
   "cell_type": "code",
   "execution_count": 36,
   "metadata": {},
   "outputs": [],
   "source": [
    "# which other column can you drop? If you think there is a valid one, then drop from the data"
   ]
  },
  {
   "cell_type": "markdown",
   "metadata": {},
   "source": [
    "### Correlation"
   ]
  },
  {
   "cell_type": "code",
   "execution_count": 115,
   "metadata": {},
   "outputs": [
    {
     "data": {
      "text/plain": [
       "<matplotlib.axes._subplots.AxesSubplot at 0x110167810>"
      ]
     },
     "execution_count": 115,
     "metadata": {},
     "output_type": "execute_result"
    },
    {
     "data": {
      "image/png": "[encoded data removed]",
      "text/plain": [
       "<matplotlib.figure.Figure at 0x10d310c90>"
      ]
     },
     "metadata": {},
     "output_type": "display_data"
    }
   ],
   "source": [
    "sns.heatmap(brooklyn[intcols].corr())"
   ]
  },
  {
   "cell_type": "code",
   "execution_count": null,
   "metadata": {},
   "outputs": [],
   "source": []
  },
  {
   "cell_type": "code",
   "execution_count": null,
   "metadata": {},
   "outputs": [],
   "source": []
  }
 ],
 "metadata": {
  "kernelspec": {
   "display_name": "Python 2",
   "language": "python",
   "name": "python2"
  },
  "language_info": {
   "codemirror_mode": {
    "name": "ipython",
    "version": 2
   },
   "file_extension": ".py",
   "mimetype": "text/x-python",
   "name": "python",
   "nbconvert_exporter": "python",
   "pygments_lexer": "ipython2",
   "version": "2.7.13"
  }
 },
 "nbformat": 4,
 "nbformat_minor": 1
}
